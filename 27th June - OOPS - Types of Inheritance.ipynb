{
 "cells": [
  {
   "cell_type": "code",
   "execution_count": 5,
   "metadata": {},
   "outputs": [
    {
     "name": "stdout",
     "output_type": "stream",
     "text": [
      "This is function1 \n",
      "This is function2\n"
     ]
    }
   ],
   "source": [
    "# Single Inheritance \n",
    "class Parent:\n",
    "    def func1(self):\n",
    "        print(\"This is function1 \")\n",
    "        \n",
    "class Child(Parent):\n",
    "    def func2(self):\n",
    "        print(\"This is function2\")\n",
    "#Object of Child Class below\n",
    "obj = Child()\n",
    "obj.func1()\n",
    "obj.func2()"
   ]
  },
  {
   "cell_type": "code",
   "execution_count": 7,
   "metadata": {},
   "outputs": [
    {
     "name": "stdout",
     "output_type": "stream",
     "text": [
      "This is fuction1\n",
      "This is fuction2\n",
      "This is fuction3\n"
     ]
    }
   ],
   "source": [
    "# Multiple Inheritance\n",
    "class Parent1:\n",
    "    def fuct1(self):\n",
    "        print(\"This is fuction1\")\n",
    "\n",
    "class Parent2:\n",
    "    def fuct2(self):\n",
    "        print(\"This is fuction2\")\n",
    "        \n",
    "class Child(Parent1,Parent2):\n",
    "    def func3(self):\n",
    "        print(\"This is fuction3\")\n",
    "\n",
    "obj = Child()\n",
    "obj.fuct1()\n",
    "obj.fuct2()\n",
    "obj.func3()"
   ]
  },
  {
   "cell_type": "code",
   "execution_count": 20,
   "metadata": {},
   "outputs": [
    {
     "name": "stdout",
     "output_type": "stream",
     "text": [
      "This is Parent\n",
      "This is Child\n",
      "This is Parent\n",
      "This is Child\n",
      "This is grandchild\n"
     ]
    }
   ],
   "source": [
    "# Multilevel inheritance\n",
    "class Parent:\n",
    "    def func1(self):\n",
    "        print(\"This is Parent\")\n",
    "        \n",
    "class Child(Parent):\n",
    "    def func2(self):\n",
    "        print(\"This is Child\")\n",
    "        \n",
    "class Grandchild(Child):\n",
    "    def func3(self):\n",
    "        print(\"This is grandchild\")\n",
    "        \n",
    "obj1 = Child()\n",
    "obj1.func1()\n",
    "obj1.func2()\n",
    "\n",
    "obj = Grandchild()\n",
    "obj.func1()\n",
    "obj.func2()\n",
    "obj.func3()"
   ]
  },
  {
   "cell_type": "code",
   "execution_count": 18,
   "metadata": {},
   "outputs": [
    {
     "name": "stdout",
     "output_type": "stream",
     "text": [
      "Father : RAM\n",
      "Mother : SITA\n"
     ]
    }
   ],
   "source": [
    "# Multiple\n",
    "# Base Class1\n",
    "class Mother:\n",
    "    mothername = \"\"\n",
    "    def mother(self):\n",
    "        print(self.mothername)\n",
    "\n",
    "# Base Class2\n",
    "class Father:\n",
    "    fathername = \"\"\n",
    "    def father(self):\n",
    "        print(self.fathername)\n",
    "\n",
    "#Derived Class\n",
    "class Son(Mother, Father):\n",
    "    def parents(self):\n",
    "        print(\"Father :\", self.fathername)\n",
    "        print(\"Mother :\", self.mothername)\n",
    "        \n",
    "s1 = Son()\n",
    "s1.fathername = \"RAM\"\n",
    "s1.mothername = \"SITA\"\n",
    "s1.parents()"
   ]
  },
  {
   "cell_type": "code",
   "execution_count": 17,
   "metadata": {},
   "outputs": [
    {
     "name": "stdout",
     "output_type": "stream",
     "text": [
      "Grandfather : Srinivas\n",
      "Father : Ankush\n"
     ]
    }
   ],
   "source": [
    "# Multilevel Inheritance\n",
    "#Base Class\n",
    "class Grandfather:\n",
    "    grandfathername =\"\"\n",
    "    def grandfather(self):\n",
    "        print(self.grandfathername)\n",
    "\n",
    "# Intermediate class\n",
    "class Father(Grandfather):\n",
    "    fathername = \"\"\n",
    "    def father(self):\n",
    "        print(self.fathername)\n",
    "\n",
    "#Derived Class\n",
    "class Son(Father):\n",
    "    def parent(self):\n",
    "        print(\"Grandfather :\", self.grandfathername)\n",
    "        print(\"Father :\", self.fathername)\n",
    "              \n",
    "s1 = Son()\n",
    "s1.grandfathername = \"Srinivas\"\n",
    "s1.fathername = \"Ankush\"\n",
    "s1.parent()\n",
    "              "
   ]
  },
  {
   "cell_type": "code",
   "execution_count": 21,
   "metadata": {},
   "outputs": [
    {
     "name": "stdout",
     "output_type": "stream",
     "text": [
      "This is 1st fuction\n",
      "This is 2nd fuction\n",
      "This is 1st fuction\n",
      "This is 3rd function\n"
     ]
    }
   ],
   "source": [
    "#Hierarchical\n",
    "class Parent:\n",
    "    def func1(self):\n",
    "        print(\"This is 1st fuction\")\n",
    "        \n",
    "class Child1(Parent):\n",
    "    def func2(self):\n",
    "        print(\"This is 2nd fuction\")\n",
    "        \n",
    "class Child2(Parent):\n",
    "    def func3(self):\n",
    "        print(\"This is 3rd function\")\n",
    "        \n",
    "obj1 = Child1()\n",
    "obj1.func1()\n",
    "obj1.func2()\n",
    "\n",
    "obj2 = Child2()\n",
    "obj2.func1()\n",
    "obj2.func3()"
   ]
  },
  {
   "cell_type": "code",
   "execution_count": 25,
   "metadata": {},
   "outputs": [
    {
     "name": "stdout",
     "output_type": "stream",
     "text": [
      "This is 1st fuction\n",
      "This is 2nd fuction\n",
      "This is 3rd function\n",
      "This is 4th fuction\n"
     ]
    }
   ],
   "source": [
    "# Hybrid\n",
    "class Parent:\n",
    "    def func1(self):\n",
    "        print(\"This is 1st fuction\")\n",
    "        \n",
    "class Child1(Parent):\n",
    "    def func2(self):\n",
    "        print(\"This is 2nd fuction\")\n",
    "        \n",
    "class Child2(Parent):\n",
    "    def func3(self):\n",
    "        print(\"This is 3rd function\")\n",
    "\n",
    "class Grandchild(Child1, Child2):\n",
    "    def func4(self):\n",
    "        print(\"This is 4th fuction\")\n",
    "        \n",
    "obj1 = Grandchild()\n",
    "obj1.func1()\n",
    "obj1.func2()\n",
    "obj1.func3()\n",
    "obj1.func4()\n"
   ]
  },
  {
   "cell_type": "code",
   "execution_count": 27,
   "metadata": {},
   "outputs": [
    {
     "name": "stdout",
     "output_type": "stream",
     "text": [
      "This function is in school\n",
      "This function is in student 1\n"
     ]
    }
   ],
   "source": [
    "# Hybrid \n",
    "class School:\n",
    "    def func1(self):\n",
    "        print(\"This function is in school\")\n",
    "        \n",
    "class Student1(School):\n",
    "    def func2(self):\n",
    "        print(\"This function is in student 1\")\n",
    "        \n",
    "class Student2(School):\n",
    "    def func3(self):\n",
    "        print(\"This function is in student 2\")\n",
    "        \n",
    "class Student3(Student1, School):\n",
    "    def func4(self):\n",
    "        print(\"This function is in student 3\")\n",
    "        \n",
    "object = Student3()\n",
    "object.func1()\n",
    "object.func2()\n",
    "        "
   ]
  },
  {
   "cell_type": "code",
   "execution_count": null,
   "metadata": {},
   "outputs": [],
   "source": []
  }
 ],
 "metadata": {
  "kernelspec": {
   "display_name": "Python 3",
   "language": "python",
   "name": "python3"
  },
  "language_info": {
   "codemirror_mode": {
    "name": "ipython",
    "version": 3
   },
   "file_extension": ".py",
   "mimetype": "text/x-python",
   "name": "python",
   "nbconvert_exporter": "python",
   "pygments_lexer": "ipython3",
   "version": "3.7.6"
  }
 },
 "nbformat": 4,
 "nbformat_minor": 4
}
